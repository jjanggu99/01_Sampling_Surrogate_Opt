{
 "cells": [
  {
   "cell_type": "code",
   "execution_count": 1,
   "metadata": {},
   "outputs": [],
   "source": [
    "import os\n",
    "import numpy as np\n",
    "import pandas as pd\n",
    "\n",
    "from jmag_code import initialize_and_copy_jproj, jmag_case_input, jmag_resultscheck, initialize_jmag_app\n",
    "import case_div_merge\n"
   ]
  },
  {
   "cell_type": "code",
   "execution_count": 2,
   "metadata": {},
   "outputs": [
    {
     "name": "stdout",
     "output_type": "stream",
     "text": [
      "Varialbe_Complete\n"
     ]
    }
   ],
   "source": [
    "class SimulationInput:\n",
    "    def __init__(self):\n",
    "        self.savesetting = 2\n",
    "        # 0 : 샘플링 진행 아무것도 안된 처음상태\n",
    "        # 1 : 초기 LHS 상태 저장 완료\n",
    "        # 2 : Final sampling DATA 존재\n",
    "        # 3 : 샘플링 전체 완료. serult 추출 중 정지\n",
    "        \n",
    "        self.opt_variable_name = ['DMAG3', 'MT1', 'MT3', 'MT4', 'MT5', 'MW1', 'MW3', 'WMAG1', 'WMAG3', 'WMAG5']\n",
    "        self.opt_variable_upper = np.array([15, 14, 14, 14, 14, 40, 26, 15, 15, 20])\n",
    "        self.opt_variable_lower = np.array([5, 5, 5, 5, 5, 25, 12, 5, 10, 10])\n",
    "\n",
    "        # Efficiency Map Variable\n",
    "        self.SLOTS = 36\n",
    "        self.POLE = 6\n",
    "        self.RPM = 4500\n",
    "        self.HEIGHT = 285\n",
    "        self.MECHANICAL_LOSS = 20\n",
    "        self.CURRENT_SOURCE = 353.5533906\n",
    "        self.COILEND_H = 110\n",
    "        self.VOLTAGE_SOURCE = 3086.448943904834\n",
    "\n",
    "        # Heat Analysis Variable\n",
    "        self.AIR_HTC = 10\n",
    "        self.AIR_TC = 0.02\n",
    "        self.COIL_TC = 400\n",
    "        self.COIL_DENS = 8.96\n",
    "        self.COIL_SH = 380\n",
    "        self.SHAFT_TC = 25\n",
    "        self.SHAFT_DENS = 7.8\n",
    "        self.SHAFT_SH = 450\n",
    "        self.HOUSING_H = 420\n",
    "        self.HOUSING_T = 20\n",
    "        self.HOUSING_TC = 25\n",
    "        self.HOUSING_DENS = 7.8\n",
    "        self.HOUSING_SH = 450\n",
    "\n",
    "        self.AMBIENT = 70\n",
    "\n",
    "        # Load Analysis Settings\n",
    "        self.OPERATING_CURRENT = 200\n",
    "        self.MAGNET_TEMP = 180\n",
    "        # OPERATING_PHASE는 다변수 최적화에 사용되므로 여기에 포함되지 않습니다.\n",
    "        self.OPERATING_RPM = 4387\n",
    "        self.OPERATING_TRQ = 923\n",
    "\n",
    "\n",
    "        self.study_num = 7 #Analysis Group내의 전체 스터디 갯수\n",
    "\n",
    "        ##### 아래 두 변수는 시퀀셜 LHS샘플링을 위한 변수들임.\n",
    "        self.lhs_sample_num = 40 # 전체 샘플 갯수\n",
    "        self.lhs_sample_division = int(self.lhs_sample_num/40) #sample_num을 몇개의 jmag 프로젝트 파일로 분할 할지\n",
    "        ''' 즉, 한 iter에 sample_num만큼 데이터를 뽑는데 sample_division만큼의 프로젝트 파일에 \n",
    "            각 sample_num/sample_division 만큼의 case를 생성시켜서 해석함.\n",
    "\n",
    "            ex) self.lhs_sample_num = 400 / self.lhs_sample_division = 40\n",
    "            한 iteration당 400개 샘플 생성 / 프로젝트 40개 / 프로젝트당 10개 case\n",
    "        '''\n",
    "        self.lhs_iteration_num = 20 # sampling iteration(시퀀셜)을 최대 몇번 진행할지\n",
    "        \n",
    "        # => 총 생성될 data는 iteration num * smple_num 임.\n",
    "\n",
    "        #효율맵 최적화 목적함수를 위한 운전점(OP)\n",
    "        self.op = [[1194, 3267],[4387, 923]] #[[rpm, torque],[rpm, torque],[rpm, torque].....]\n",
    "        \n",
    "        self.analysis_type_all = ['Machine Characteristics (Efficiency Map)','Cogging Torque','Torque Ripple','Induced Voltage','Demagnetization','Natural/Forced (Steady)/','Stress']\n",
    "        self.analysis_type_selection = ['Machine Characteristics (Efficiency Map)','Cogging Torque','Torque Ripple','Induced Voltage']\n",
    "\n",
    "        #Surrogate Model 선택\n",
    "        self.model_types = ['linear_regression', 'polynomial_regression', 'gaussian_process', 'svm', 'decision_tree', 'random_forest', 'gradient_boosting', 'neural_network', 'xgboost', 'lightgbm', 'catboost', 'knn', 'elastic_net', 'kriging']\n",
    "        \n",
    "sim_input = SimulationInput()\n",
    "print('Varialbe_Complete')"
   ]
  },
  {
   "cell_type": "code",
   "execution_count": 3,
   "metadata": {},
   "outputs": [
    {
     "name": "stdout",
     "output_type": "stream",
     "text": [
      "Path Setting Complete\n"
     ]
    }
   ],
   "source": [
    "class Pathsetting:\n",
    "    def __init__(self):\n",
    "        # 현재 폴더\n",
    "        self.current_dir = os.getcwd() # level 0\n",
    "\n",
    "        # input 샘플관련 하위 폴더 명\n",
    "        self.casefolder_name = '01_Generated_Case' # level 1\n",
    "        self.ini_LHS_samplefolder_name = '01_1st_LHS_INsamples' # level 2\n",
    "        self.seq_LHS_samplefolder_name = '02_2nd_seqLHS_INsamples' # level 2\n",
    "        self.seq_divsamplefolder_name = '03_divided_INsample' # level 2\n",
    "        self.sample_tempfolder = '9999999_temp' # level 2\n",
    "        \n",
    "\n",
    "        # output 샘플관련 하위 폴더 명\n",
    "        self.resultfolder_name = '02_Result' # level 1\n",
    "        self.LHSoutputfolder_name = '01_LHS_Result_OUTsample' # level 2\n",
    "        self.results_tempfolder = '9999999_temp' # level 2\n",
    "\n",
    "        # jproj 관련 하위 폴더 명\n",
    "        self.jprojfolder_name = '03_Projectfile' # level 1\n",
    "        self.divjprojfolder_name = '01_div_jproj' # level 2\n",
    "        self.jproj_tempfolder = '9999999_temp' # level 2\n",
    "\n",
    "        # 파일 명\n",
    "        self.jmag_filename = '240718_EMU_Surro_OPT_After_SA.jproj'\n",
    "        self.jmag_inputformat_filename = f'jmag_var_form.csv'\n",
    "        self.Final_INsample_filename = f'Final_LHS_Seq_INsample.csv'  # 최종 input_seq_LHS 파일 명\n",
    "        self.Final_OUTsample_filename = f'Final_LHS_Seq_OUTsample.csv'  # 최종 output_seq_LHS 파일 명\n",
    "\n",
    "        # 주요 경로 명\n",
    "        self.case_dir = os.path.join(self.current_dir, self.casefolder_name)\n",
    "        self.result_dir = os.path.join(self.current_dir, self.resultfolder_name)\n",
    "        self.projfolder_path = os.path.join(self.current_dir, self.jprojfolder_name)\n",
    "        self.Final_INsample_filepath = os.path.join(self.case_dir, self.Final_INsample_filename)\n",
    "        self.Final_OUTsample_filepath = os.path.join(self.result_dir, self.LHSoutputfolder_name, self.Final_OUTsample_filename)\n",
    "        self.jmag_dir = os.path.join(self.current_dir, self.jprojfolder_name, self.jmag_filename)\n",
    "\n",
    "pathset = Pathsetting()\n",
    "print('Path Setting Complete')"
   ]
  },
  {
   "cell_type": "code",
   "execution_count": 4,
   "metadata": {},
   "outputs": [
    {
     "name": "stdout",
     "output_type": "stream",
     "text": [
      "jmag_resultscheck start\n",
      "jmag_resultscheck start\n"
     ]
    },
    {
     "ename": "com_error",
     "evalue": "(-2147023170, '원격 프로시저를 호출하지 못했습니다.', None, None)",
     "output_type": "error",
     "traceback": [
      "\u001b[1;31m---------------------------------------------------------------------------\u001b[0m",
      "\u001b[1;31mcom_error\u001b[0m                                 Traceback (most recent call last)",
      "Cell \u001b[1;32mIn[4], line 19\u001b[0m\n\u001b[0;32m     17\u001b[0m div_result_path \u001b[38;5;241m=\u001b[39m os\u001b[38;5;241m.\u001b[39mpath\u001b[38;5;241m.\u001b[39mjoin(pathset\u001b[38;5;241m.\u001b[39mresult_dir, pathset\u001b[38;5;241m.\u001b[39mresults_tempfolder, div_r_file_name)\n\u001b[0;32m     18\u001b[0m \u001b[38;5;28mprint\u001b[39m(\u001b[38;5;124m'\u001b[39m\u001b[38;5;124mjmag_resultscheck start\u001b[39m\u001b[38;5;124m'\u001b[39m)\n\u001b[1;32m---> 19\u001b[0m div_result \u001b[38;5;241m=\u001b[39m \u001b[43mjmag_resultscheck\u001b[49m\u001b[43m(\u001b[49m\u001b[43mapp\u001b[49m\u001b[43m,\u001b[49m\u001b[43m \u001b[49m\u001b[43msim_input\u001b[49m\u001b[43m,\u001b[49m\u001b[43m \u001b[49m\u001b[43mdiv_jproj_path\u001b[49m\u001b[43m,\u001b[49m\u001b[43m \u001b[49m\u001b[43mdiv_result_path\u001b[49m\u001b[43m)\u001b[49m\n\u001b[0;32m     20\u001b[0m app\u001b[38;5;241m.\u001b[39mSave()\n\u001b[0;32m     21\u001b[0m app\u001b[38;5;241m.\u001b[39mQuit()\n",
      "File \u001b[1;32mg:\\04_Surrogate_Opt\\02_Seq_LHS_Surrogate_Opt\\03_After_SA_ver6\\jmag_code.py:131\u001b[0m, in \u001b[0;36mjmag_resultscheck\u001b[1;34m(app, sim_input, jproj_path, output_filepath)\u001b[0m\n\u001b[0;32m    129\u001b[0m     \u001b[38;5;28;01mreturn\u001b[39;00m\n\u001b[0;32m    130\u001b[0m app\u001b[38;5;241m.\u001b[39mLoad(jproj_path)\n\u001b[1;32m--> 131\u001b[0m \u001b[43mapp\u001b[49m\u001b[38;5;241;43m.\u001b[39;49m\u001b[43mGetAnalysisGroup\u001b[49m\u001b[43m(\u001b[49m\u001b[38;5;241;43m0\u001b[39;49m\u001b[43m)\u001b[49m\u001b[38;5;241;43m.\u001b[39;49m\u001b[43mCheckForNewResults\u001b[49m\u001b[43m(\u001b[49m\u001b[43m)\u001b[49m\n\u001b[0;32m    132\u001b[0m \u001b[38;5;66;03m# Machine Characteristics (Efficiency Map)에서 OP_N_Torque 불러오기\u001b[39;00m\n\u001b[0;32m    133\u001b[0m app\u001b[38;5;241m.\u001b[39mSetCurrentStudy(\u001b[38;5;241m0\u001b[39m)\n",
      "File \u001b[1;32m<COMObject GetAnalysisGroup>:2\u001b[0m, in \u001b[0;36mCheckForNewResults\u001b[1;34m(self)\u001b[0m\n",
      "\u001b[1;31mcom_error\u001b[0m: (-2147023170, '원격 프로시저를 호출하지 못했습니다.', None, None)"
     ]
    }
   ],
   "source": [
    "num_proj = 5\n",
    "\n",
    "j_base_name, j_extension = pathset.jmag_filename.rsplit('.', 1)\n",
    "c_base_name, c_extension = pathset.Final_INsample_filename.rsplit('.', 1)\n",
    "r_base_name, r_extension = pathset.Final_INsample_filename.rsplit('.', 1)\n",
    "\n",
    "divcase_folderpath = os.path.join(pathset.case_dir, pathset.seq_divsamplefolder_name)\n",
    "div_jproj_folderpath = os.path.join(pathset.projfolder_path, pathset.divjprojfolder_name)\n",
    "\n",
    "result = []\n",
    "for i in range(1, num_proj + 1):\n",
    "    app, jobapp = initialize_jmag_app()\n",
    "\n",
    "    div_j_file_name = f'{j_base_name}_div{i}.{j_extension}'\n",
    "    div_r_file_name = f'{r_base_name}_div{i}.{r_extension}'\n",
    "    div_jproj_path = os.path.join(div_jproj_folderpath, div_j_file_name)\n",
    "    div_result_path = os.path.join(pathset.result_dir, pathset.results_tempfolder, div_r_file_name)\n",
    "    print('jmag_resultscheck start')\n",
    "    div_result = jmag_resultscheck(app, sim_input, div_jproj_path, div_result_path)\n",
    "    app.Save()\n",
    "    app.Quit()\n",
    "    result.append(div_result)\n",
    "\n",
    "# Concatenate all dataframes in the output list into a single dataframe\n",
    "result = pd.concat(result, ignore_index=True)\n",
    "\n",
    "case_div_merge.case_merge(os.path.join(pathset.result_dir, pathset.results_tempfolder), os.path.join(pathset.result_dir, pathset.LHSoutputfolder_name))\n",
    "#case_div_merge.delete_all_files(os.path.join(pathset.result_dir, pathset.results_tempfolder))"
   ]
  },
  {
   "cell_type": "code",
   "execution_count": null,
   "metadata": {},
   "outputs": [],
   "source": []
  }
 ],
 "metadata": {
  "kernelspec": {
   "display_name": "Python 3",
   "language": "python",
   "name": "python3"
  },
  "language_info": {
   "codemirror_mode": {
    "name": "ipython",
    "version": 3
   },
   "file_extension": ".py",
   "mimetype": "text/x-python",
   "name": "python",
   "nbconvert_exporter": "python",
   "pygments_lexer": "ipython3",
   "version": "3.8.19"
  }
 },
 "nbformat": 4,
 "nbformat_minor": 2
}
